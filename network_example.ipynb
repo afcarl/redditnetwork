{
 "cells": [
  {
   "cell_type": "markdown",
   "metadata": {},
   "source": [
    "## Extracting a multilayer network from Reddit data"
   ]
  },
  {
   "cell_type": "markdown",
   "metadata": {},
   "source": [
    "### First we load the network and check some basic stats"
   ]
  },
  {
   "cell_type": "code",
   "execution_count": 1,
   "metadata": {
    "collapsed": true
   },
   "outputs": [],
   "source": [
    "from redditnetwork.network_extractor import extract_week_network\n",
    "import networkx as nx"
   ]
  },
  {
   "cell_type": "code",
   "execution_count": 2,
   "metadata": {
    "collapsed": false
   },
   "outputs": [
    {
     "name": "stdout",
     "output_type": "stream",
     "text": [
      "Warning: Using week argument and ignoring month\n",
      "Processed 45097 comments, of which 12378 were removed for missing post and 5888 for missing parent\n"
     ]
    }
   ],
   "source": [
    "# We will use /r/politics subreddit as the running example\n",
    "# We extract a network for this subreddit, corresponding to the first week of 2014\n",
    "politics_net = extract_week_network(\"politics\", 2014, 1)"
   ]
  },
  {
   "cell_type": "code",
   "execution_count": 3,
   "metadata": {
    "collapsed": false
   },
   "outputs": [
    {
     "name": "stdout",
     "output_type": "stream",
     "text": [
      "1.2.0\n"
     ]
    }
   ],
   "source": [
    "import spacy, __future__\n",
    "print spacy.__version__"
   ]
  },
  {
   "cell_type": "code",
   "execution_count": 68,
   "metadata": {
    "collapsed": false
   },
   "outputs": [
    {
     "data": {
      "text/plain": [
       "<module '__future__' from '/afs/cs.stanford.edu/u/wleif/anaconda/lib/python2.7/__future__.pyc'>"
      ]
     },
     "execution_count": 68,
     "metadata": {},
     "output_type": "execute_result"
    }
   ],
   "source": [
    "__future__"
   ]
  },
  {
   "cell_type": "markdown",
   "metadata": {},
   "source": [
    "Ignore the warning about using the week argument instead of month. (This is just an internal complication due to the fact that the data is stored at the monthly level but we are accessing weeks).\n",
    "\n",
    "Once the data finishes processing it will say that it processed a certain number of comments and removed some due to having a missing parent or post (e.g., they were replying to an old post from an earlier week).\n",
    "\n",
    "The returned object is a networkx DiGraph (directed graph)."
   ]
  },
  {
   "cell_type": "code",
   "execution_count": 11,
   "metadata": {
    "collapsed": false
   },
   "outputs": [
    {
     "name": "stdout",
     "output_type": "stream",
     "text": [
      "There are 8992 users, 26832 comments, and 2368 posts in the graph\n"
     ]
    }
   ],
   "source": [
    "## some basic stats:\n",
    "print \"There are {:d} users, {:d} comments, and {:d} posts in the graph\"\\\n",
    "            .format(len([node for node in politics_net.nodes(data=True) if node[1][\"type\"] == \"user\"]),\n",
    "                   len([node for node in politics_net.nodes(data=True) if node[1][\"type\"] == \"comment\"]),\n",
    "                   len([node for node in politics_net.nodes(data=True) if node[1][\"type\"] == \"post\"]))"
   ]
  },
  {
   "cell_type": "markdown",
   "metadata": {},
   "source": [
    "### Okay, and now some details on the data \n",
    "\n",
    "The underlying structure is a directed graph (DiGraph) and additional information is stored as node and edge attributes.\n",
    "\n",
    "#### Node types\n",
    "\n",
    "Every node as an \"type\" attribute that is one of \"user\", \"comment\", or \"post\".\n",
    "Users are indexed by their username and post/comments by unique string ids. \n",
    "\n",
    "#### Edge types\n",
    "\n",
    "Every edge has a \"type\" attribute as well, which is one of the following:\n",
    "* \"user_post\": a directed edge from a user to a post they made.\n",
    "* \"user_comment\": a directed edge from a user to a comment they made.\n",
    "* \"post_comment\": a directed edge from a post to a top-level comment in that post.\n",
    "* \"comment_comment\": a directed edge from a comment to a comment that replies to it. \n",
    "\n",
    "#### Node attributes/features\n",
    "\n",
    "Comment nodes and post nodes also additional features/attributes (which can be listed by running politics_net.graph; see the example below). User nodes currently have no features (besides those that are implicit in the graph structure). \n",
    "\n",
    "##### Comment features\n",
    "* score: score that comment received\n",
    "* time: describes when the comment was made during the week (hour offset from 12:00am on Monday of that week).\n",
    "* post_time_offset: how old was the post when the comment was made (in hours)\n",
    "* length: how many words in the comment\n",
    "* word_vec: 300 dimensional vector embedding of the comment (average of GloVe vectors)\n",
    "\n",
    "##### Post features\n",
    "* score: score that the post recieved\n",
    "* time: when was the post made during the week (hour offset from 12:00 on Monday of that week)\n",
    "* length: number of words in the title\n",
    "* word_vec: vector embedding of post title (average of Glove vectors)\n",
    "\n",
    "*NOTE THAT NONE OF THESE FEATURES ARE THE \"LABELS\" WE WANT TO PREDICT.* That data is stored elsewhere for now because I don't want to clutter the network representations and because the \"labels\" are in flux. See the bottom of this notebook for an example of how to get the labels for predictions."
   ]
  },
  {
   "cell_type": "code",
   "execution_count": 43,
   "metadata": {
    "collapsed": false
   },
   "outputs": [
    {
     "data": {
      "text/plain": [
       "{'comment_feats': {'length': 1,\n",
       "  'score': 1,\n",
       "  'time': 1,\n",
       "  'time_offset': 1,\n",
       "  'word_vec': 300},\n",
       " 'post_feats': {'score': 1, 'time': 1, 'word_vec': 300},\n",
       " 'user_feats': {}}"
      ]
     },
     "execution_count": 43,
     "metadata": {},
     "output_type": "execute_result"
    }
   ],
   "source": [
    "# this prints info about what features there are and the dimensionality of these features\n",
    "politics_net.graph"
   ]
  },
  {
   "cell_type": "code",
   "execution_count": 42,
   "metadata": {
    "collapsed": false
   },
   "outputs": [
    {
     "name": "stdout",
     "output_type": "stream",
     "text": [
      "['cejaksn']\n"
     ]
    }
   ],
   "source": [
    "# lets access the node for a random user \n",
    "# and get all comments and posts that this user made\n",
    "user_out_nodes = politics_net.successors(\"RedSquirrelFtw\")\n",
    "print user_out_nodes"
   ]
  },
  {
   "cell_type": "code",
   "execution_count": 45,
   "metadata": {
    "collapsed": false
   },
   "outputs": [
    {
     "name": "stdout",
     "output_type": "stream",
     "text": [
      "{'type': 'comment', 'time': 196.05277777777778, 'length': 26, 'score': 28, 'word_vecs': array([  4.01195958e-02,  -1.20655401e-02,   1.38737066e-02,\n",
      "        -5.05111087e-03,   5.46537992e-03,   1.39144640e-02,\n",
      "        -1.47369644e-03,  -1.15743780e-03,   1.36278768e-03,\n",
      "        -6.99382462e-03,   3.86757664e-02,  -1.19612238e-03,\n",
      "        -5.26179001e-02,   1.56097841e-02,  -3.74819189e-02,\n",
      "        -4.27772626e-02,  -5.47819696e-02,  -8.62767547e-02,\n",
      "        -4.51631006e-03,   1.23882452e-02,  -2.33349986e-02,\n",
      "        -2.14756629e-03,   3.54487333e-03,  -4.24631499e-02,\n",
      "         3.80612463e-02,   8.60011578e-02,   7.25141494e-03,\n",
      "        -7.39442371e-03,  -1.87714286e-02,   2.38258410e-02,\n",
      "         1.63386296e-02,   5.72118908e-02,  -1.17002837e-02,\n",
      "         1.87530424e-02,   5.77666052e-03,  -4.24845144e-02,\n",
      "        -1.39498822e-02,  -9.69437137e-03,   1.16598764e-02,\n",
      "         2.97847353e-02,   1.72986519e-02,   4.32692170e-02,\n",
      "         3.43013853e-02,  -1.29871527e-02,  -1.82183404e-02,\n",
      "        -1.47801386e-02,   5.79879014e-03,  -1.60120428e-02,\n",
      "         1.33384066e-02,   5.92524139e-03,   9.39164404e-03,\n",
      "        -4.65087891e-02,   3.07983123e-02,  -2.92384122e-02,\n",
      "        -1.06402440e-02,   6.46303520e-02,   5.43148592e-02,\n",
      "        -8.69716406e-02,   2.52973475e-02,  -4.11320999e-02,\n",
      "        -4.15098742e-02,   6.98070507e-03,  -6.68552965e-02,\n",
      "        -3.76132168e-02,   1.23618147e-03,  -4.06720908e-03,\n",
      "        -4.44241846e-03,  -2.45792549e-02,   4.02407013e-02,\n",
      "         6.96515962e-02,   2.10783519e-02,   7.51007441e-03,\n",
      "        -3.26957703e-02,   4.51682061e-02,   4.83167358e-02,\n",
      "        -1.86984316e-02,   1.48905208e-02,  -6.91935513e-03,\n",
      "        -1.01579577e-02,  -1.40126599e-02,   8.26625749e-02,\n",
      "        -4.02442142e-02,   1.13331517e-02,   7.82539323e-02,\n",
      "         6.16161991e-03,  -7.36515678e-04,  -2.98735090e-02,\n",
      "         1.08937211e-02,   3.17088924e-02,  -6.80587254e-03,\n",
      "         5.97420428e-03,  -1.92473531e-02,   4.61217342e-03,\n",
      "        -4.34063338e-02,   3.91488448e-02,  -2.09918898e-02,\n",
      "        -2.41941046e-02,   4.14184947e-03,   2.60172747e-02,\n",
      "         1.19187878e-02,  -3.06009222e-02,  -3.41245048e-02,\n",
      "        -2.51436848e-02,  -5.96936755e-02,  -4.08091806e-02,\n",
      "        -8.96405615e-03,   1.49508854e-02,   3.77867967e-02,\n",
      "        -3.27197276e-02,  -4.00874764e-02,   6.54638484e-02,\n",
      "        -2.31102016e-02,   4.36820984e-02,   2.82886028e-02,\n",
      "         2.71788854e-02,   8.30026995e-03,   6.74527660e-02,\n",
      "         2.95348968e-02,  -2.52815653e-02,   5.70395514e-02,\n",
      "         2.44429018e-02,   2.16610525e-02,   1.37875136e-02,\n",
      "         2.23008208e-02,  -4.24369425e-03,   4.67025377e-02,\n",
      "         2.28449199e-02,   4.56987880e-02,  -1.47691816e-02,\n",
      "         9.41715948e-03,  -5.02531081e-02,  -8.81329831e-03,\n",
      "        -4.93481802e-03,   4.24132980e-02,   6.28039986e-02,\n",
      "         3.52056995e-02,   1.23064946e-02,  -1.15302787e-03,\n",
      "         2.35570204e-02,  -2.22107936e-02,   9.85804386e-03,\n",
      "        -1.34973146e-04,   4.24702326e-03,   2.25615539e-02,\n",
      "         2.31762417e-02,   5.33162355e-02,  -1.09777190e-02,\n",
      "        -5.88728581e-03,  -2.89866589e-02,  -2.80379429e-02,\n",
      "         1.87300630e-02,   4.41987701e-02,   3.20107909e-03,\n",
      "         1.09019282e-03,  -3.12926434e-02,   5.78608103e-02,\n",
      "        -1.30785257e-02,  -8.39177892e-03,  -2.76972912e-02,\n",
      "        -7.42079318e-03,   3.50680784e-03,  -1.86785720e-02,\n",
      "        -2.09683869e-02,   3.19085754e-02,  -9.54474881e-02,\n",
      "        -7.38832820e-03,   2.33274400e-02,  -2.43565030e-02,\n",
      "        -4.21875790e-02,  -7.88250417e-02,  -5.73855406e-03,\n",
      "         1.89880021e-02,  -1.48953134e-02,  -2.09495518e-02,\n",
      "         2.94965506e-03,  -1.04885909e-03,   2.34201760e-03,\n",
      "         2.17612516e-02,   2.06414871e-02,  -7.30699860e-03,\n",
      "        -4.46675718e-03,   1.49173522e-03,   2.39679720e-02,\n",
      "         5.48387039e-03,   6.56942045e-03,   1.54743185e-02,\n",
      "        -2.01236382e-02,   2.20804452e-03,   4.13100049e-02,\n",
      "        -1.21653546e-02,  -6.47257781e-03,   5.41374311e-02,\n",
      "         1.30448164e-03,  -5.12133166e-02,  -4.65672240e-02,\n",
      "        -2.88055651e-02,  -1.92566018e-03,  -3.24539952e-02,\n",
      "        -3.21764895e-03,  -3.31309736e-02,  -5.13531733e-03,\n",
      "        -2.01985333e-02,   2.34859604e-02,   2.10778024e-02,\n",
      "         3.98123302e-02,   1.11394953e-02,   2.08642855e-02,\n",
      "         3.98805067e-02,   2.73178816e-02,   1.46610942e-02,\n",
      "         2.42079999e-02,  -2.48392392e-02,   5.47733940e-02,\n",
      "        -1.29263718e-02,  -2.34656762e-02,   7.65372254e-03,\n",
      "         6.12306148e-02,   8.80791526e-03,   2.24523479e-03,\n",
      "        -2.28648856e-02,   1.73411262e-03,   4.48124185e-02,\n",
      "         1.64890918e-03,  -9.46476124e-03,   1.99754648e-02,\n",
      "        -2.72423448e-03,  -1.71078965e-02,  -2.40347423e-02,\n",
      "         2.48527341e-02,   4.31551374e-02,  -2.80753337e-02,\n",
      "        -4.24909871e-03,   2.38189078e-03,   4.02172469e-03,\n",
      "        -1.84361301e-02,   1.53492149e-02,   2.79323552e-02,\n",
      "         3.33702005e-02,  -3.76875922e-02,   3.08649037e-02,\n",
      "         5.46943070e-03,   2.12883428e-02,  -3.34374234e-02,\n",
      "         4.84567787e-03,   1.21884290e-02,  -6.00581728e-02,\n",
      "        -2.86999438e-02,  -8.86371825e-03,   2.90851993e-03,\n",
      "        -3.90095115e-02,   2.07778644e-02,  -6.34129252e-03,\n",
      "         4.25505638e-02,   3.78050208e-02,  -9.27344430e-03,\n",
      "        -6.31395578e-02,  -1.08726025e-02,   1.56658553e-02,\n",
      "         4.37659072e-03,  -2.98890974e-02,   2.16539316e-02,\n",
      "        -7.34358793e-03,  -2.29979251e-02,   1.88468732e-02,\n",
      "         2.77714729e-02,   9.45199728e-02,  -1.32323401e-02,\n",
      "         7.80090783e-03,   3.99240060e-03,  -5.08556888e-02,\n",
      "         5.42075373e-02,  -1.80107225e-02,  -3.41795124e-02,\n",
      "        -2.72320434e-02,  -3.31640542e-02,   4.30401377e-02,\n",
      "        -4.80588898e-03,  -2.42863707e-02,  -1.92936398e-02,\n",
      "         1.46115236e-02,  -1.31472992e-02,  -4.21986505e-02,\n",
      "         4.52698696e-05,   1.15509816e-02,  -1.21195186e-02,\n",
      "         2.74917707e-02,   3.21887322e-02,   1.79056264e-02,\n",
      "         3.75919119e-02,  -2.81621981e-02,  -1.17004532e-02,\n",
      "         1.43683683e-02,   1.56730004e-02,  -5.17115928e-02,\n",
      "        -1.80858863e-03,  -1.24447737e-02,  -2.85778828e-02,\n",
      "         7.31944526e-03,   2.33777184e-02,   1.28981974e-02], dtype=float32), 'time_offset': 12.575833333333334}\n"
     ]
    }
   ],
   "source": [
    "# this user made only one comment... but I think you get the picture\n",
    "# e.g., we could access the attributes for this comment \n",
    "print politics_net.node[user_out_nodes[0]]"
   ]
  },
  {
   "cell_type": "markdown",
   "metadata": {},
   "source": [
    "There is still lots of graph management stuff that is left unspecificed (e.g., what's the best way to get all nodes of a certain type), but I figure this is just networkx/bookkeeping stuff and doesn't need to be baked in to the representation."
   ]
  },
  {
   "cell_type": "markdown",
   "metadata": {},
   "source": [
    "## We can also extract networks for multiple subreddits...."
   ]
  },
  {
   "cell_type": "code",
   "execution_count": 1,
   "metadata": {
    "collapsed": true
   },
   "outputs": [],
   "source": [
    "from redditnetwork.network_extractor import extract_week_network_multisubreddits"
   ]
  },
  {
   "cell_type": "code",
   "execution_count": 2,
   "metadata": {
    "collapsed": false
   },
   "outputs": [
    {
     "name": "stdout",
     "output_type": "stream",
     "text": [
      "Warning: Using week argument and ignoring month\n",
      "Warning: Using week argument and ignoring month\n",
      "Processed 57517 comments, of which 11175 were removed for missing post and 8704 for missing parent\n"
     ]
    }
   ],
   "source": [
    "multi_test = extract_week_network_multisubreddits([\"politics\", \"Libertarian\"], 2014, 2)"
   ]
  },
  {
   "cell_type": "code",
   "execution_count": 4,
   "metadata": {
    "collapsed": false
   },
   "outputs": [
    {
     "data": {
      "text/plain": [
       "11196"
      ]
     },
     "execution_count": 4,
     "metadata": {},
     "output_type": "execute_result"
    }
   ],
   "source": [
    "len([node for node in multi_test.nodes(data=True) if node[1][\"type\"] == \"post\"])"
   ]
  },
  {
   "cell_type": "code",
   "execution_count": null,
   "metadata": {
    "collapsed": true
   },
   "outputs": [],
   "source": []
  }
 ],
 "metadata": {
  "kernelspec": {
   "display_name": "Python 2",
   "language": "python",
   "name": "python2"
  },
  "language_info": {
   "codemirror_mode": {
    "name": "ipython",
    "version": 2
   },
   "file_extension": ".py",
   "mimetype": "text/x-python",
   "name": "python",
   "nbconvert_exporter": "python",
   "pygments_lexer": "ipython2",
   "version": "2.7.13"
  }
 },
 "nbformat": 4,
 "nbformat_minor": 2
}
