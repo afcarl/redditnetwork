{
 "cells": [
  {
   "cell_type": "markdown",
   "metadata": {},
   "source": [
    "## Extracting a multilayer network from Reddit data"
   ]
  },
  {
   "cell_type": "markdown",
   "metadata": {},
   "source": [
    "### First we load the network and check some basic stats"
   ]
  },
  {
   "cell_type": "code",
   "execution_count": 1,
   "metadata": {
    "collapsed": true
   },
   "outputs": [],
   "source": [
    "from redditnetwork.network_extractor import extract_week_network\n",
    "import networkx as nx"
   ]
  },
  {
   "cell_type": "code",
   "execution_count": 2,
   "metadata": {
    "collapsed": false
   },
   "outputs": [
    {
     "name": "stdout",
     "output_type": "stream",
     "text": [
      "Warning: Using week argument and ignoring month\n",
      "Processed 45097 comments, of which 12378 were removed for missing post and 5888 for missing parent\n"
     ]
    }
   ],
   "source": [
    "# We will use /r/politics subreddit as the running example\n",
    "# We extract a network for this subreddit, corresponding to the first week of 2014\n",
    "politics_net = extract_week_network(\"politics\", 2014, 1)"
   ]
  },
  {
   "cell_type": "markdown",
   "metadata": {},
   "source": [
    "Ignore the warning about using the week argument instead of month. (This is just an internal complication due to the fact that the data is stored at the monthly level but we are accessing weeks).\n",
    "\n",
    "Once the data finishes processing it will say that it processed a certain number of comments and removed some due to having a missing parent or post (e.g., they were replying to an old post from an earlier week).\n",
    "\n",
    "The returned object is a networkx DiGraph (directed graph)."
   ]
  },
  {
   "cell_type": "code",
   "execution_count": 3,
   "metadata": {
    "collapsed": false
   },
   "outputs": [
    {
     "name": "stdout",
     "output_type": "stream",
     "text": [
      "There are 8992 users, 26832 comments, and 2368 posts in the graph\n"
     ]
    }
   ],
   "source": [
    "## some basic stats:\n",
    "print \"There are {:d} users, {:d} comments, and {:d} posts in the graph\"\\\n",
    "            .format(len([node for node in politics_net.nodes(data=True) if node[1][\"type\"] == \"user\"]),\n",
    "                   len([node for node in politics_net.nodes(data=True) if node[1][\"type\"] == \"comment\"]),\n",
    "                   len([node for node in politics_net.nodes(data=True) if node[1][\"type\"] == \"post\"]))"
   ]
  },
  {
   "cell_type": "markdown",
   "metadata": {},
   "source": [
    "### Okay, and now some details on the data \n",
    "\n",
    "The underlying structure is a directed graph (DiGraph) and additional information is stored as node and edge attributes.\n",
    "\n",
    "#### Node types\n",
    "\n",
    "Every node as an \"type\" attribute that is one of \"user\", \"comment\", or \"post\".\n",
    "Users are indexed by their username and post/comments by unique string ids. \n",
    "\n",
    "#### Edge types\n",
    "\n",
    "Every edge has a \"type\" attribute as well, which is one of the following:\n",
    "* \"user_post\": a directed edge from a user to a post they made.\n",
    "* \"user_comment\": a directed edge from a user to a comment they made.\n",
    "* \"post_comment\": a directed edge from a post to a top-level comment in that post.\n",
    "* \"comment_comment\": a directed edge from a comment to a comment that replies to it. \n",
    "\n",
    "#### Node attributes/features\n",
    "\n",
    "Comment nodes and post nodes also additional features/attributes (which can be listed by running politics_net.graph; see the example below). User nodes currently have no features (besides those that are implicit in the graph structure). \n",
    "\n",
    "##### Comment features\n",
    "* score: score that comment received\n",
    "* time: describes when the comment was made during the week (hour offset from 12:00am on Monday of that week).\n",
    "* post_time_offset: how old was the post when the comment was made (in hours)\n",
    "* length: how many words in the comment\n",
    "* word_vec: 300 dimensional vector embedding of the comment (tf-idf average of GloVe vectors)\n",
    "\n",
    "##### Post features\n",
    "* score: score that the post recieved\n",
    "* time: when was the post made during the week (hour offset from 12:00 on Monday of that week)\n",
    "* length: number of words in the title\n",
    "* word_vec: vector embedding of post title (average of Glove vectors)\n",
    "\n",
    "*NOTE THAT NONE OF THESE FEATURES ARE THE \"LABELS\" WE WANT TO PREDICT.* That data is stored elsewhere for now because I don't want to clutter the network representations and because the \"labels\" are in flux. See the bottom of this notebook for an example of how to get the labels for predictions."
   ]
  },
  {
   "cell_type": "code",
   "execution_count": 4,
   "metadata": {
    "collapsed": false
   },
   "outputs": [
    {
     "data": {
      "text/plain": [
       "{'comment_feats': {'length': 1,\n",
       "  'post_time_offset': 1,\n",
       "  'score': 1,\n",
       "  'subreddit': 1,\n",
       "  'time': 1,\n",
       "  'word_vecs': 300},\n",
       " 'post_feats': {'length': 1,\n",
       "  'num_comments': 1,\n",
       "  'score': 1,\n",
       "  'subreddit': 1,\n",
       "  'time': 1,\n",
       "  'word_vecs': 300},\n",
       " 'user_feats': {}}"
      ]
     },
     "execution_count": 4,
     "metadata": {},
     "output_type": "execute_result"
    }
   ],
   "source": [
    "# this prints info about what features there are and the dimensionality of these features\n",
    "politics_net.graph"
   ]
  },
  {
   "cell_type": "code",
   "execution_count": 5,
   "metadata": {
    "collapsed": false
   },
   "outputs": [
    {
     "name": "stdout",
     "output_type": "stream",
     "text": [
      "['cejaksn']\n"
     ]
    }
   ],
   "source": [
    "# lets access the node for a random user \n",
    "# and get all comments and posts that this user made\n",
    "user_out_nodes = politics_net.successors(\"RedSquirrelFtw\")\n",
    "print user_out_nodes"
   ]
  },
  {
   "cell_type": "code",
   "execution_count": 6,
   "metadata": {
    "collapsed": false
   },
   "outputs": [
    {
     "name": "stdout",
     "output_type": "stream",
     "text": [
      "{'word_vecs': array([  2.45881882e-02,  -8.85956455e-03,   4.07702522e-03,\n",
      "        -3.59144271e-03,  -5.35505451e-03,   3.04689351e-03,\n",
      "        -2.86572031e-05,   6.46826986e-04,   3.98649042e-03,\n",
      "        -3.48688639e-03,   3.40964980e-02,   3.39702074e-03,\n",
      "        -2.66911592e-02,   9.43523180e-03,  -2.05980968e-02,\n",
      "        -2.33542006e-02,  -2.23564263e-02,  -4.97682840e-02,\n",
      "         2.15058471e-03,   6.99266186e-03,  -1.03599476e-02,\n",
      "        -3.42106936e-03,  -1.32135861e-03,  -3.16169374e-02,\n",
      "         1.49107622e-02,   4.38282602e-02,  -1.15861988e-03,\n",
      "        -5.54729579e-03,  -6.17341464e-03,   1.52532337e-02,\n",
      "         1.30888699e-02,   1.42863719e-02,   5.32958051e-03,\n",
      "         6.43259101e-03,  -2.33824583e-04,  -1.21295080e-02,\n",
      "        -4.83304122e-03,  -6.96073147e-03,  -6.06134126e-04,\n",
      "         1.71746537e-02,   8.68919492e-03,   1.78009700e-02,\n",
      "         1.27696199e-02,  -1.09810466e-02,  -3.44701274e-03,\n",
      "        -4.43779491e-03,  -2.83656735e-03,  -1.35982307e-02,\n",
      "         9.29598790e-03,   1.40077816e-02,   4.03900212e-03,\n",
      "        -1.54639157e-02,   1.17861321e-02,  -1.46402763e-02,\n",
      "        -3.31898057e-03,   3.37800458e-02,   1.95675101e-02,\n",
      "        -3.57995667e-02,   2.05528438e-02,  -1.94929559e-02,\n",
      "        -3.00960094e-02,   6.92273676e-03,  -3.29098515e-02,\n",
      "        -7.45723071e-03,  -1.42299989e-03,  -8.70021619e-03,\n",
      "         1.11240067e-03,  -1.51177878e-02,   2.87857745e-02,\n",
      "         3.37396264e-02,   9.56202578e-03,  -1.05087310e-02,\n",
      "        -1.07406760e-02,   1.49361016e-02,   2.01773494e-02,\n",
      "         2.91823908e-05,   4.99374466e-03,  -1.14855031e-02,\n",
      "         5.58512053e-03,  -8.54704715e-03,   4.02356274e-02,\n",
      "        -3.03811803e-02,   8.61220621e-03,   4.28446494e-02,\n",
      "        -9.69701540e-03,  -5.98392868e-03,  -9.92416963e-03,\n",
      "         9.10818484e-03,   1.59019697e-02,  -5.44882799e-03,\n",
      "         1.45760819e-03,  -3.55789065e-03,  -2.28537503e-03,\n",
      "        -2.61299759e-02,   1.90544985e-02,  -1.77889783e-02,\n",
      "        -1.39860585e-02,   6.76063960e-03,   1.38605768e-02,\n",
      "         9.62258037e-03,  -1.29944673e-02,  -2.23032534e-02,\n",
      "        -1.12707019e-02,  -3.23294364e-02,  -1.73050631e-02,\n",
      "         1.61380600e-03,   7.97309820e-03,   2.07648035e-02,\n",
      "        -2.09515914e-02,  -1.72264632e-02,   2.98629012e-02,\n",
      "        -1.17384242e-02,   1.86214726e-02,   9.00912005e-03,\n",
      "         1.10343313e-02,   4.74179303e-03,   3.79112177e-02,\n",
      "         2.15634611e-02,  -1.51630966e-02,   2.94514317e-02,\n",
      "         1.61693618e-02,   2.19558049e-02,   7.10119260e-03,\n",
      "         1.03538474e-02,   7.77509485e-05,   3.03796474e-02,\n",
      "         1.42980209e-02,   2.52941120e-02,  -7.30073452e-03,\n",
      "         2.67049880e-03,  -3.23295183e-02,  -4.56356490e-03,\n",
      "        -1.13542946e-02,   1.67651456e-02,   1.88513268e-02,\n",
      "         1.45909078e-02,   1.26617374e-02,   2.57562962e-03,\n",
      "         2.61628558e-03,  -9.08431411e-03,   1.14472574e-02,\n",
      "         7.94017408e-03,   1.20475926e-02,   6.06606854e-03,\n",
      "         1.72127299e-02,   3.30692828e-02,   2.73634796e-03,\n",
      "        -1.44931115e-03,  -1.57310385e-02,  -9.87053290e-03,\n",
      "         1.01823714e-02,   1.41003141e-02,  -2.85259262e-03,\n",
      "        -2.85569229e-03,  -2.15815436e-02,   3.00777871e-02,\n",
      "        -9.35850013e-03,  -1.59715936e-02,  -9.89310350e-03,\n",
      "        -6.48096018e-03,   8.47815443e-03,  -1.39471488e-02,\n",
      "        -1.54531682e-02,   1.39459819e-02,  -3.64065021e-02,\n",
      "        -1.36025399e-02,   1.38182156e-02,  -6.87898695e-03,\n",
      "        -1.50948400e-02,  -2.98325270e-02,  -6.52712537e-03,\n",
      "         1.41928094e-02,  -1.52701763e-02,   9.46271932e-04,\n",
      "         3.33177461e-03,  -7.86158908e-03,  -1.73139188e-03,\n",
      "         2.13753339e-02,   1.40343681e-02,   6.07236812e-04,\n",
      "        -3.50858620e-03,   3.21572740e-03,   1.88201424e-02,\n",
      "         5.38636697e-04,  -1.99504918e-03,   8.32799729e-03,\n",
      "        -9.34114214e-03,   1.05030613e-03,   2.49872357e-02,\n",
      "        -1.37836263e-02,  -5.93390130e-03,   3.22293714e-02,\n",
      "         5.87111758e-03,  -3.06474995e-02,  -2.33445037e-02,\n",
      "        -2.20932271e-02,   1.08240033e-03,  -1.84142999e-02,\n",
      "        -1.48790656e-02,  -1.64782442e-02,  -7.43377954e-03,\n",
      "        -1.01498319e-02,   1.35151120e-02,   1.11000063e-02,\n",
      "         2.05843598e-02,   1.21982545e-02,   2.34148884e-03,\n",
      "         1.59241911e-02,   2.14853045e-02,   1.02746207e-02,\n",
      "         2.46614888e-02,  -9.97475255e-03,   2.22080369e-02,\n",
      "        -2.92910635e-03,  -1.70956121e-03,   8.48170649e-03,\n",
      "         2.91286502e-02,   7.95706734e-03,   1.02885272e-02,\n",
      "        -7.11069396e-03,  -9.60137043e-03,   3.87477353e-02,\n",
      "         5.41670388e-03,  -7.04232231e-03,   6.28765486e-03,\n",
      "         6.94147125e-03,  -1.28068291e-02,  -3.23408772e-03,\n",
      "         1.30555267e-02,   2.38443818e-02,  -1.96164623e-02,\n",
      "        -1.58533361e-02,   9.44936834e-03,  -1.23057445e-03,\n",
      "        -1.55784115e-02,   1.23042492e-02,   2.84389127e-02,\n",
      "         1.14323832e-02,  -2.29188725e-02,   2.06083413e-02,\n",
      "        -1.55406876e-03,   7.49366404e-03,  -2.04990674e-02,\n",
      "         5.44690294e-03,   1.76218394e-02,  -2.92982757e-02,\n",
      "        -1.70645968e-03,  -1.92762853e-03,  -3.71797127e-04,\n",
      "        -2.82948818e-02,   2.10400019e-02,   4.07306617e-03,\n",
      "         2.54461095e-02,   3.17274220e-02,  -3.35782184e-03,\n",
      "        -4.31606658e-02,  -1.00767994e-02,   4.30808449e-03,\n",
      "         3.92695935e-03,  -1.54349012e-02,   8.19602143e-03,\n",
      "        -1.41330715e-03,  -2.46893838e-02,   1.46608660e-02,\n",
      "         2.21408587e-02,   6.10332601e-02,  -8.76054820e-03,\n",
      "         8.68958142e-03,  -6.90774480e-03,  -2.69666910e-02,\n",
      "         3.16602848e-02,  -1.31279230e-02,  -1.95450392e-02,\n",
      "        -5.54493815e-03,  -1.54730147e-02,   1.84348375e-02,\n",
      "         7.17827678e-03,  -1.07575832e-02,  -2.36013550e-02,\n",
      "         8.04622378e-03,  -1.49186878e-02,  -3.87179069e-02,\n",
      "        -1.70071388e-03,   1.06324144e-02,  -4.39525116e-04,\n",
      "         2.57094787e-03,   2.30304878e-02,   2.87001040e-02,\n",
      "         1.92963984e-02,  -2.31728554e-02,  -3.97634273e-03,\n",
      "         7.90031161e-03,   3.72355897e-03,  -2.97002345e-02,\n",
      "         1.95561489e-03,  -4.79521276e-03,  -2.14669239e-02,\n",
      "         1.08616846e-02,   2.25015227e-02,   3.29043274e-03], dtype=float32), 'subreddit': 'politics', 'post_time_offset': 12.575833333333334, 'length': 26, 'score': 28, 'time': 196.05277777777778, 'type': 'comment'}\n"
     ]
    }
   ],
   "source": [
    "# this user made only one comment... but I think you get the picture\n",
    "# e.g., we could access the attributes for this comment \n",
    "print politics_net.node[user_out_nodes[0]]"
   ]
  },
  {
   "cell_type": "markdown",
   "metadata": {},
   "source": [
    "There is still lots of graph management stuff that is left unspecificed (e.g., what's the best way to get all nodes of a certain type), but I figure this is just networkx/bookkeeping stuff and doesn't need to be baked in to the representation."
   ]
  },
  {
   "cell_type": "markdown",
   "metadata": {},
   "source": [
    "## We can also extract networks for multiple subreddits...."
   ]
  },
  {
   "cell_type": "code",
   "execution_count": 1,
   "metadata": {
    "collapsed": true
   },
   "outputs": [],
   "source": [
    "from redditnetwork.network_extractor import extract_week_network_multisubreddits"
   ]
  },
  {
   "cell_type": "code",
   "execution_count": 2,
   "metadata": {
    "collapsed": false
   },
   "outputs": [
    {
     "name": "stdout",
     "output_type": "stream",
     "text": [
      "Warning: Using week argument and ignoring month\n",
      "Warning: Using week argument and ignoring month\n",
      "Processed 57517 comments, of which 11175 were removed for missing post and 8704 for missing parent\n"
     ]
    }
   ],
   "source": [
    "multi_test = extract_week_network_multisubreddits([\"politics\", \"Libertarian\"], 2014, 2)"
   ]
  },
  {
   "cell_type": "code",
   "execution_count": 4,
   "metadata": {
    "collapsed": false
   },
   "outputs": [
    {
     "data": {
      "text/plain": [
       "11196"
      ]
     },
     "execution_count": 4,
     "metadata": {},
     "output_type": "execute_result"
    }
   ],
   "source": [
    "len([node for node in multi_test.nodes(data=True) if node[1][\"type\"] == \"post\"])"
   ]
  }
 ],
 "metadata": {
  "kernelspec": {
   "display_name": "Python 2",
   "language": "python",
   "name": "python2"
  },
  "language_info": {
   "codemirror_mode": {
    "name": "ipython",
    "version": 2
   },
   "file_extension": ".py",
   "mimetype": "text/x-python",
   "name": "python",
   "nbconvert_exporter": "python",
   "pygments_lexer": "ipython2",
   "version": "2.7.13"
  }
 },
 "nbformat": 4,
 "nbformat_minor": 2
}
